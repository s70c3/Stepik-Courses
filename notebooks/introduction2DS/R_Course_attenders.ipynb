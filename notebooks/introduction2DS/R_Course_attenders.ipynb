{
 "cells": [
  {
   "cell_type": "code",
   "execution_count": 1,
   "metadata": {
    "collapsed": true,
    "pycharm": {
     "name": "#%%\n"
    }
   },
   "outputs": [],
   "source": [
    "import pandas as pd\n",
    "import numpy as np"
   ]
  },
  {
   "cell_type": "code",
   "execution_count": 2,
   "outputs": [],
   "source": [
    "%matplotlib inline\n",
    "import matplotlib.pyplot as plt\n",
    "import seaborn as sns"
   ],
   "metadata": {
    "collapsed": false,
    "pycharm": {
     "name": "#%%\n"
    }
   }
  },
  {
   "cell_type": "code",
   "execution_count": 6,
   "outputs": [],
   "source": [
    "events_data = pd.read_csv('../data/introduction2DS/event_data_train.csv')"
   ],
   "metadata": {
    "collapsed": false,
    "pycharm": {
     "name": "#%%\n"
    }
   }
  },
  {
   "cell_type": "code",
   "execution_count": 7,
   "outputs": [
    {
     "data": {
      "text/plain": "   step_id   timestamp      action  user_id\n0    32815  1434340848      viewed    17632\n1    32815  1434340848      passed    17632\n2    32815  1434340848  discovered    17632\n3    32811  1434340895  discovered    17632\n4    32811  1434340895      viewed    17632",
      "text/html": "<div>\n<style scoped>\n    .dataframe tbody tr th:only-of-type {\n        vertical-align: middle;\n    }\n\n    .dataframe tbody tr th {\n        vertical-align: top;\n    }\n\n    .dataframe thead th {\n        text-align: right;\n    }\n</style>\n<table border=\"1\" class=\"dataframe\">\n  <thead>\n    <tr style=\"text-align: right;\">\n      <th></th>\n      <th>step_id</th>\n      <th>timestamp</th>\n      <th>action</th>\n      <th>user_id</th>\n    </tr>\n  </thead>\n  <tbody>\n    <tr>\n      <th>0</th>\n      <td>32815</td>\n      <td>1434340848</td>\n      <td>viewed</td>\n      <td>17632</td>\n    </tr>\n    <tr>\n      <th>1</th>\n      <td>32815</td>\n      <td>1434340848</td>\n      <td>passed</td>\n      <td>17632</td>\n    </tr>\n    <tr>\n      <th>2</th>\n      <td>32815</td>\n      <td>1434340848</td>\n      <td>discovered</td>\n      <td>17632</td>\n    </tr>\n    <tr>\n      <th>3</th>\n      <td>32811</td>\n      <td>1434340895</td>\n      <td>discovered</td>\n      <td>17632</td>\n    </tr>\n    <tr>\n      <th>4</th>\n      <td>32811</td>\n      <td>1434340895</td>\n      <td>viewed</td>\n      <td>17632</td>\n    </tr>\n  </tbody>\n</table>\n</div>"
     },
     "execution_count": 7,
     "metadata": {},
     "output_type": "execute_result"
    }
   ],
   "source": [
    "events_data.head(5)"
   ],
   "metadata": {
    "collapsed": false,
    "pycharm": {
     "name": "#%%\n"
    }
   }
  },
  {
   "cell_type": "code",
   "execution_count": 8,
   "outputs": [],
   "source": [
    "submission_data = pd.read_csv('../data/introduction2DS/submissions_data_train.csv')"
   ],
   "metadata": {
    "collapsed": false,
    "pycharm": {
     "name": "#%%\n"
    }
   }
  },
  {
   "cell_type": "code",
   "execution_count": 9,
   "outputs": [
    {
     "data": {
      "text/plain": "   step_id   timestamp submission_status  user_id\n0    31971  1434349275           correct    15853\n1    31972  1434348300           correct    15853\n2    31972  1478852149             wrong    15853\n3    31972  1478852164           correct    15853\n4    31976  1434348123             wrong    15853",
      "text/html": "<div>\n<style scoped>\n    .dataframe tbody tr th:only-of-type {\n        vertical-align: middle;\n    }\n\n    .dataframe tbody tr th {\n        vertical-align: top;\n    }\n\n    .dataframe thead th {\n        text-align: right;\n    }\n</style>\n<table border=\"1\" class=\"dataframe\">\n  <thead>\n    <tr style=\"text-align: right;\">\n      <th></th>\n      <th>step_id</th>\n      <th>timestamp</th>\n      <th>submission_status</th>\n      <th>user_id</th>\n    </tr>\n  </thead>\n  <tbody>\n    <tr>\n      <th>0</th>\n      <td>31971</td>\n      <td>1434349275</td>\n      <td>correct</td>\n      <td>15853</td>\n    </tr>\n    <tr>\n      <th>1</th>\n      <td>31972</td>\n      <td>1434348300</td>\n      <td>correct</td>\n      <td>15853</td>\n    </tr>\n    <tr>\n      <th>2</th>\n      <td>31972</td>\n      <td>1478852149</td>\n      <td>wrong</td>\n      <td>15853</td>\n    </tr>\n    <tr>\n      <th>3</th>\n      <td>31972</td>\n      <td>1478852164</td>\n      <td>correct</td>\n      <td>15853</td>\n    </tr>\n    <tr>\n      <th>4</th>\n      <td>31976</td>\n      <td>1434348123</td>\n      <td>wrong</td>\n      <td>15853</td>\n    </tr>\n  </tbody>\n</table>\n</div>"
     },
     "execution_count": 9,
     "metadata": {},
     "output_type": "execute_result"
    }
   ],
   "source": [
    "submission_data.head(5)"
   ],
   "metadata": {
    "collapsed": false,
    "pycharm": {
     "name": "#%%\n"
    }
   }
  },
  {
   "cell_type": "code",
   "execution_count": null,
   "outputs": [],
   "source": [],
   "metadata": {
    "collapsed": false,
    "pycharm": {
     "name": "#%%\n"
    }
   }
  }
 ],
 "metadata": {
  "kernelspec": {
   "display_name": "Python 3",
   "language": "python",
   "name": "python3"
  },
  "language_info": {
   "codemirror_mode": {
    "name": "ipython",
    "version": 2
   },
   "file_extension": ".py",
   "mimetype": "text/x-python",
   "name": "python",
   "nbconvert_exporter": "python",
   "pygments_lexer": "ipython2",
   "version": "2.7.6"
  }
 },
 "nbformat": 4,
 "nbformat_minor": 0
}